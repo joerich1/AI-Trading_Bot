{
 "cells": [
  {
   "cell_type": "markdown",
   "id": "cb555fb3-d7ce-4abf-ac22-ffa75802ccea",
   "metadata": {},
   "source": [
    "### DOWNLOAD DATA"
   ]
  },
  {
   "cell_type": "code",
   "execution_count": null,
   "id": "6c111592-e5bb-4fb8-8dc2-0833b72ba6a3",
   "metadata": {},
   "outputs": [],
   "source": [
    "#!pip install yfinance\n",
    "import yfinance as yf\n",
    "\n",
    "# Download S&P 500 index data (^GSPC) from 1990-01-01 to 2018-12-31\n",
    "sp500 = yf.download(\"^GSPC\", start=\"1990-01-01\", end=\"2018-12-31\", interval=\"1d\")\n",
    "\n",
    "# Save to CSV\n",
    "sp500.to_csv(\"sp500_1990_2018.csv\")\n",
    "\n",
    "print(\"Saved S&P 500 data to sp500_1990_2018.csv\")\n",
    "\n",
    "import yfinance as yf\n",
    "\n",
    "# Download S&P 500 index data (^GSPC) from 1990-01-01 to 2018-12-31\n",
    "sp500 = yf.download(\"^GSPC\", start=\"1990-01-01\", end=\"2018-12-31\", interval=\"1d\")\n",
    "\n",
    "# Save to CSV\n",
    "sp500.to_csv(\"sp500_1990_2018.csv\")\n",
    "\n",
    "print(\"Saved S&P 500 data to sp500_1990_2018.csv\")"
   ]
  },
  {
   "cell_type": "markdown",
   "id": "a4dbcb29-a536-4b48-8547-f22b853100ea",
   "metadata": {},
   "source": [
    "### IMPORT INTO PANDAS FROM DISK"
   ]
  },
  {
   "cell_type": "code",
   "execution_count": 2,
   "id": "ff1ecf78-cefb-45b0-83c8-a58559fc6d66",
   "metadata": {},
   "outputs": [
    {
     "name": "stdout",
     "output_type": "stream",
     "text": [
      "                 Close     Volume\n",
      "Date                             \n",
      "1990-01-02  359.690002  162070000\n",
      "1990-01-03  358.760010  192330000\n",
      "1990-01-04  355.670013  177000000\n",
      "1990-01-05  352.200012  158530000\n",
      "1990-01-08  353.790009  140110000\n",
      "Close     float64\n",
      "Volume      int64\n",
      "dtype: object\n"
     ]
    }
   ],
   "source": [
    "import pandas as pd\n",
    "import numpy as np\n",
    "\n",
    "# 1) Load exactly as-is\n",
    "df = pd.read_csv(\"data/sp500_1990_2018.csv\")\n",
    "\n",
    "# 2) Drop the two metadata rows: where 'Price' is 'Ticker' or 'Date'\n",
    "df = df[~df[\"Price\"].isin([\"Ticker\", \"Date\"])].copy()\n",
    "\n",
    "# 3) Parse dates and set index\n",
    "df[\"Date\"] = pd.to_datetime(df[\"Price\"])\n",
    "df = df.drop(columns=[\"Price\"]).set_index(\"Date\").sort_index()\n",
    "\n",
    "# 4) Make sure numeric cols are numeric\n",
    "for c in [\"Close\",\"High\",\"Low\",\"Open\",\"Volume\"]:\n",
    "    if c in df.columns:\n",
    "        df[c] = pd.to_numeric(df[c], errors=\"coerce\")\n",
    "\n",
    "# 5) Drop intra-day prices\n",
    "df = df.drop(columns=[\"High\", \"Low\", \"Open\"])\n",
    "\n",
    "print(df.head())\n",
    "print(df.dtypes)"
   ]
  },
  {
   "cell_type": "markdown",
   "id": "5f9cd828-5681-4184-b2a0-46c23c67608c",
   "metadata": {},
   "source": [
    "### FEATURE ENGINEER LAG, RETURN & "
   ]
  },
  {
   "cell_type": "code",
   "execution_count": null,
   "id": "b8e88be2-7b27-41a1-b62d-3bc95573af8c",
   "metadata": {},
   "outputs": [],
   "source": []
  }
 ],
 "metadata": {
  "kernelspec": {
   "display_name": "Python 3 (ipykernel)",
   "language": "python",
   "name": "python3"
  },
  "language_info": {
   "codemirror_mode": {
    "name": "ipython",
    "version": 3
   },
   "file_extension": ".py",
   "mimetype": "text/x-python",
   "name": "python",
   "nbconvert_exporter": "python",
   "pygments_lexer": "ipython3",
   "version": "3.12.7"
  }
 },
 "nbformat": 4,
 "nbformat_minor": 5
}
