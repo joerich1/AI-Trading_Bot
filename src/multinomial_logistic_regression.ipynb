{
 "cells": [
  {
   "cell_type": "code",
   "execution_count": 35,
   "id": "fdfc4a74-5925-47e1-9d07-0bddc4f83159",
   "metadata": {},
   "outputs": [
    {
     "name": "stdout",
     "output_type": "stream",
     "text": [
      "After shifting and dropping 1990 rows:\n",
      "Shapes: (4034, 77) (3018, 77) (4034,) (3018,)\n",
      "Example columns: ['VIX_Close', 'ADS_Index', 'RECBARS', 'fft', '3mth', '10yr', '30yr', 'Aaa', 'Baa', 'term_spread']\n",
      "Unique y_train values: [-1.  0.  1.]\n"
     ]
    }
   ],
   "source": [
    "# %%\n",
    "import os\n",
    "import pandas as pd\n",
    "import numpy as np\n",
    "\n",
    "DATA_DIR = \"../data\"\n",
    "\n",
    "# Read train/test feature files (keeping Date temporarily to filter)\n",
    "X_train = pd.read_csv(os.path.join(DATA_DIR, \"X_train.csv\"))\n",
    "X_test  = pd.read_csv(os.path.join(DATA_DIR, \"X_test.csv\"))\n",
    "y_train = pd.read_csv(os.path.join(DATA_DIR, \"y_train.csv\"))[\"0\"]\n",
    "y_test  = pd.read_csv(os.path.join(DATA_DIR, \"y_test.csv\"))[\"0\"]\n",
    "\n",
    "# Now drop Date column (model shouldn't see raw dates)\n",
    "X_train = X_train.drop(columns=[\"Date\"])\n",
    "X_test  = X_test.drop(columns=[\"Date\"])\n",
    "\n",
    "print(\"After shifting and dropping 1990 rows:\")\n",
    "print(\"Shapes:\", X_train.shape, X_test.shape, y_train.shape, y_test.shape)\n",
    "print(\"Example columns:\", list(X_train.columns)[:10])\n",
    "print(\"Unique y_train values:\", np.unique(y_train))"
   ]
  },
  {
   "cell_type": "code",
   "execution_count": 39,
   "id": "44934c1c-1071-4ca5-8394-5b649cb3b5e1",
   "metadata": {},
   "outputs": [
    {
     "name": "stdout",
     "output_type": "stream",
     "text": [
      "After dropping correlated columns:\n",
      "X_train shape: (4034, 72)\n",
      "Remaining features: ['VIX_Close', 'ADS_Index', 'RECBARS', 'fft', '3mth', '10yr', '30yr', 'Aaa', 'Baa', 'term_spread', 'long_spread', 'corp_spread', 'TED', 'majcurr_ret', 'DAX', 'rdax', 'FTSE', 'oil', 'copper_ret', 'MOM10', 'StochK', 'Rperc', 'MACD', 'gold_ret', 'silver_ret', 'VIX_Close_lag1', 'Close_lag1', 'High_lag1', 'Low_lag1', 'Open_lag1', 'Volume_lag1', 'ADS_Index_lag1', 'RECBARS_lag1', 'fft_lag1', '3mth_lag1', '10yr_lag1', '30yr_lag1', 'Aaa_lag1', 'Baa_lag1', 'term_spread_lag1', 'long_spread_lag1', 'corp_spread_lag1', 'Aaa_minus_10Y_lag1', 'TED_lag1', 'majcurr_ret_lag1', 'DAX_lag1', 'rdax_lag1', 'FTSE_lag1', 'oil_lag1', 'copper_ret_lag1', 'MA10_lag1', 'MOM10_lag1', 'StochK_lag1', 'StochD_lag1', 'RSI_lag1', 'Rperc_lag1', 'MACD_lag1', 'MACDsig_lag1', 'gold_ret_lag1', 'silver_ret_lag1', 'VIX_Close_lag2', 'VIX_Close_lag3', 'MACD_lag2', 'MACD_lag3', 'term_spread_lag2', 'term_spread_lag3', 'corp_spread_lag2', 'corp_spread_lag3', 'majcurr_ret_lag2', 'majcurr_ret_lag3', 'DAX_lag2', 'DAX_lag3']\n",
      "After enforcing paper feature set (only *_lag1, correlated 5 dropped):\n",
      "X_train shape: (4034, 30)\n",
      "Example features: ['VIX_Close_lag1', 'Close_lag1', 'High_lag1', 'Low_lag1', 'Open_lag1', 'Volume_lag1', 'ADS_Index_lag1', 'RECBARS_lag1', 'fft_lag1', '3mth_lag1', '10yr_lag1', '30yr_lag1']\n"
     ]
    }
   ],
   "source": [
    "# %%\n",
    "# Drop the correlated predictors to match the paper's final logistic regression feature set\n",
    "cols_to_drop = [\n",
    "    \"MACDsig\",      # highly correlated with MACD\n",
    "    \"MA10\",         # correlated with MOM10\n",
    "    \"RSI\",          # correlated with MOM10 / StochK\n",
    "    \"StochD\",       # correlated with StochK\n",
    "    \"Aaa_minus_10Y\" # redundant spread measure\n",
    "]\n",
    "\n",
    "X_train = X_train.drop(columns=cols_to_drop, errors=\"ignore\")\n",
    "X_test  = X_test.drop(columns=cols_to_drop, errors=\"ignore\")\n",
    "\n",
    "print(\"After dropping correlated columns:\")\n",
    "print(\"X_train shape:\", X_train.shape)\n",
    "print(\"Remaining features:\", list(X_train.columns))\n",
    "\n",
    "# %% Use ONLY 1-day lags and drop the 5 correlated predictors (paper spec)\n",
    "# 1) start from just the *_lag1 features\n",
    "lag1_cols = [c for c in X_train.columns if c.endswith(\"_lag1\")]\n",
    "\n",
    "# 2) remove the correlated ones (with _lag1 suffix)\n",
    "drop_lag1 = {\n",
    "    \"MACDsig_lag1\",\n",
    "    \"MA10_lag1\",\n",
    "    \"RSI_lag1\",\n",
    "    \"StochD_lag1\",\n",
    "    \"Aaa_minus_10Y_lag1\",\n",
    "}\n",
    "\n",
    "use_cols = [c for c in lag1_cols if c not in drop_lag1]\n",
    "\n",
    "# 3) restrict X to this final feature set\n",
    "X_train = X_train[use_cols].copy()\n",
    "X_test  = X_test[use_cols].copy()\n",
    "\n",
    "print(\"After enforcing paper feature set (only *_lag1, correlated 5 dropped):\")\n",
    "print(\"X_train shape:\", X_train.shape)\n",
    "print(\"Example features:\", use_cols[:12])"
   ]
  },
  {
   "cell_type": "code",
   "execution_count": 40,
   "id": "9e6a553b-24c3-42f8-b954-a461ddeec3d4",
   "metadata": {},
   "outputs": [],
   "source": [
    "# %% [markdown]\n",
    "# Multinomial Logistic Regression (baseline) on current CSV splits\n",
    "# Assumes: run from source/ ; data at ../data/\n",
    "# Files: X_train.csv, X_test.csv, y_train.csv, y_test.csv\n",
    "\n",
    "# %%\n",
    "import os\n",
    "import json\n",
    "from datetime import datetime\n",
    "\n",
    "import numpy as np\n",
    "import pandas as pd\n",
    "\n",
    "from sklearn.pipeline import Pipeline\n",
    "from sklearn.preprocessing import StandardScaler\n",
    "from sklearn.linear_model import LogisticRegression\n",
    "from sklearn.metrics import accuracy_score, classification_report, confusion_matrix\n",
    "from sklearn.utils.multiclass import unique_labels\n",
    "\n",
    "RANDOM_STATE = 42\n",
    "DATA_DIR = os.path.join(\"..\", \"data\")\n",
    "ARTIFACTS_DIR = os.path.join(\"..\", \"artifacts\", \"logreg\")\n",
    "os.makedirs(ARTIFACTS_DIR, exist_ok=True)\n",
    "\n",
    "def timestamp_dir(base):\n",
    "    ts = datetime.now().strftime(\"%Y%m%d-%H%M%S\")\n",
    "    path = os.path.join(base, ts)\n",
    "    os.makedirs(path, exist_ok=True)\n",
    "    return path"
   ]
  },
  {
   "cell_type": "code",
   "execution_count": 41,
   "id": "105f98f1-af5c-4a95-a7ba-2de4cee3cb89",
   "metadata": {},
   "outputs": [
    {
     "name": "stdout",
     "output_type": "stream",
     "text": [
      "10-fold CV accuracy: 0.4288 ± 0.1508\n",
      "Out-of-sample test accuracy: 0.4400\n"
     ]
    }
   ],
   "source": [
    "# %%\n",
    "from sklearn.model_selection import StratifiedKFold, cross_val_score\n",
    "from sklearn.pipeline import Pipeline\n",
    "from sklearn.preprocessing import StandardScaler\n",
    "from sklearn.linear_model import LogisticRegression\n",
    "import numpy as np\n",
    "\n",
    "# Define the pipeline (same as before)\n",
    "pipe = Pipeline(steps=[\n",
    "    (\"scaler\", StandardScaler()),\n",
    "    (\"clf\", LogisticRegression(\n",
    "        solver=\"lbfgs\",\n",
    "        penalty=\"l2\",\n",
    "        C=1.0,\n",
    "        max_iter=2000,\n",
    "        n_jobs=-1,\n",
    "        random_state=RANDOM_STATE\n",
    "    ))\n",
    "])\n",
    "\n",
    "# 10-fold cross-validation on the training window (1991–2006)\n",
    "cv = StratifiedKFold(n_splits=10, shuffle=False)\n",
    "cv_scores = cross_val_score(pipe, X_train, y_train, cv=cv, scoring=\"accuracy\")\n",
    "\n",
    "print(f\"10-fold CV accuracy: {cv_scores.mean():.4f} ± {cv_scores.std():.4f}\")\n",
    "\n",
    "# Refit on full training data after CV (like the paper)\n",
    "pipe.fit(X_train, y_train)\n",
    "\n",
    "# Evaluate on 2007–2018 test set\n",
    "test_acc = pipe.score(X_test, y_test)\n",
    "print(f\"Out-of-sample test accuracy: {test_acc:.4f}\")"
   ]
  },
  {
   "cell_type": "code",
   "execution_count": 34,
   "id": "5fd2ace8-2908-4601-aac7-63df69c299be",
   "metadata": {},
   "outputs": [
    {
     "name": "stdout",
     "output_type": "stream",
     "text": [
      "Test accuracy: 0.2505\n",
      "\n",
      "Classification report:\n"
     ]
    },
    {
     "data": {
      "text/html": [
       "<div>\n",
       "<style scoped>\n",
       "    .dataframe tbody tr th:only-of-type {\n",
       "        vertical-align: middle;\n",
       "    }\n",
       "\n",
       "    .dataframe tbody tr th {\n",
       "        vertical-align: top;\n",
       "    }\n",
       "\n",
       "    .dataframe thead th {\n",
       "        text-align: right;\n",
       "    }\n",
       "</style>\n",
       "<table border=\"1\" class=\"dataframe\">\n",
       "  <thead>\n",
       "    <tr style=\"text-align: right;\">\n",
       "      <th></th>\n",
       "      <th>pred_-1.0</th>\n",
       "      <th>pred_0.0</th>\n",
       "      <th>pred_1.0</th>\n",
       "    </tr>\n",
       "  </thead>\n",
       "  <tbody>\n",
       "    <tr>\n",
       "      <th>true_-1.0</th>\n",
       "      <td>602</td>\n",
       "      <td>11</td>\n",
       "      <td>93</td>\n",
       "    </tr>\n",
       "    <tr>\n",
       "      <th>true_0.0</th>\n",
       "      <td>1297</td>\n",
       "      <td>46</td>\n",
       "      <td>214</td>\n",
       "    </tr>\n",
       "    <tr>\n",
       "      <th>true_1.0</th>\n",
       "      <td>628</td>\n",
       "      <td>19</td>\n",
       "      <td>108</td>\n",
       "    </tr>\n",
       "  </tbody>\n",
       "</table>\n",
       "</div>"
      ],
      "text/plain": [
       "           pred_-1.0  pred_0.0  pred_1.0\n",
       "true_-1.0        602        11        93\n",
       "true_0.0        1297        46       214\n",
       "true_1.0         628        19       108"
      ]
     },
     "execution_count": 34,
     "metadata": {},
     "output_type": "execute_result"
    }
   ],
   "source": [
    "# %%\n",
    "y_pred = pipe.predict(X_test)\n",
    "\n",
    "acc = accuracy_score(y_test, y_pred)\n",
    "labels = unique_labels(y_test, y_pred)\n",
    "\n",
    "print(f\"Test accuracy: {acc:.4f}\\n\")\n",
    "print(\"Classification report:\")\n",
    "#print(classification_report(y_test, y_pred, labels=labels, digits=4))\n",
    "\n",
    "cm = confusion_matrix(y_test, y_pred, labels=labels)\n",
    "cm_df = pd.DataFrame(cm, index=[f\"true_{c}\" for c in labels],\n",
    "                        columns=[f\"pred_{c}\" for c in labels])\n",
    "cm_df.head()"
   ]
  },
  {
   "cell_type": "code",
   "execution_count": 15,
   "id": "5a10de76-8ecf-46a1-9819-f313922de19a",
   "metadata": {},
   "outputs": [
    {
     "name": "stdout",
     "output_type": "stream",
     "text": [
      "Artifacts saved to: ../artifacts/logreg/20251016-134900\n"
     ]
    }
   ],
   "source": [
    "# %%\n",
    "import joblib\n",
    "\n",
    "run_dir = timestamp_dir(ARTIFACTS_DIR)\n",
    "\n",
    "# Save the fitted pipeline (scaler + model)\n",
    "joblib.dump(pipe, os.path.join(run_dir, \"model_pipeline.joblib\"))\n",
    "\n",
    "# Save columns to ensure consistent feature order at inference\n",
    "X_train.columns.to_series().to_csv(os.path.join(run_dir, \"feature_columns.csv\"), index=False)\n",
    "\n",
    "# Save metrics\n",
    "metrics = {\n",
    "    \"test_accuracy\": float(acc),\n",
    "    \"labels\": [int(x) if isinstance(x, (np.integer,)) else x for x in labels]\n",
    "}\n",
    "with open(os.path.join(run_dir, \"metrics.json\"), \"w\") as f:\n",
    "    json.dump(metrics, f, indent=2)\n",
    "\n",
    "# Confusion matrix + full report\n",
    "cm_df.to_csv(os.path.join(run_dir, \"confusion_matrix.csv\"))\n",
    "report_df = pd.DataFrame(classification_report(y_test, y_pred, labels=labels, output_dict=True)).T\n",
    "report_df.to_csv(os.path.join(run_dir, \"classification_report.csv\"))\n",
    "\n",
    "print(f\"Artifacts saved to: {run_dir}\")"
   ]
  },
  {
   "cell_type": "code",
   "execution_count": 16,
   "id": "85755fde-082f-4242-bed6-c9f5fdec0240",
   "metadata": {},
   "outputs": [
    {
     "data": {
      "text/plain": [
       "0\n",
       " 0    0.499883\n",
       "-1    0.250058\n",
       " 1    0.250058\n",
       "Name: proportion, dtype: float64"
      ]
     },
     "execution_count": 16,
     "metadata": {},
     "output_type": "execute_result"
    }
   ],
   "source": [
    "y_train.value_counts(normalize=True)"
   ]
  },
  {
   "cell_type": "code",
   "execution_count": 29,
   "id": "9d549b0f-ebbe-4801-82b2-273f7e6e4f5a",
   "metadata": {},
   "outputs": [
    {
     "name": "stdout",
     "output_type": "stream",
     "text": [
      "   VIX_Close  ADS_Index  RECBARS   fft  3mth  10yr  30yr   Aaa   Baa  \\\n",
      "0  26.620001   -1.31895        1  2.32 -0.02  0.03  0.06 -0.01  0.01   \n",
      "1  27.930000   -1.32174        1 -0.67 -0.02 -0.04 -0.03 -0.01 -0.03   \n",
      "2  27.190001   -1.32657        1 -0.66  0.09  0.09  0.09  0.01  0.04   \n",
      "\n",
      "   term_spread  ...      rdax         FTSE       oil  copper_ret     MOM10  \\\n",
      "0         1.51  ... -0.021770  2128.300049  0.032111   -0.015199 -3.599976   \n",
      "1         1.49  ...  0.007789  2117.800049 -0.035293    0.000000 -8.290009   \n",
      "2         1.49  ...  0.014507  2126.100098 -0.028919    0.000000 -9.119995   \n",
      "\n",
      "      StochK      Rperc      MACD  gold_ret  silver_ret  \n",
      "0  10.416846  89.583154  2.504066  0.008843   -0.000732  \n",
      "1   0.094700  99.905300  1.783934 -0.011582   -0.016221  \n",
      "2  15.661794  84.338206  1.126806  0.002843    0.027208  \n",
      "\n",
      "[3 rows x 25 columns]\n",
      "0    0\n",
      "1    0\n",
      "2   -1\n",
      "Name: 0, dtype: int64\n"
     ]
    }
   ],
   "source": [
    "print(X_train.head(3))\n",
    "print(y_train.head(3))"
   ]
  },
  {
   "cell_type": "code",
   "execution_count": null,
   "id": "1801578d-7aca-461b-aa11-83bcdc417bc3",
   "metadata": {},
   "outputs": [],
   "source": []
  }
 ],
 "metadata": {
  "kernelspec": {
   "display_name": "clean_tf_env",
   "language": "python",
   "name": "clean_tf_env"
  },
  "language_info": {
   "codemirror_mode": {
    "name": "ipython",
    "version": 3
   },
   "file_extension": ".py",
   "mimetype": "text/x-python",
   "name": "python",
   "nbconvert_exporter": "python",
   "pygments_lexer": "ipython3",
   "version": "3.9.19"
  }
 },
 "nbformat": 4,
 "nbformat_minor": 5
}
